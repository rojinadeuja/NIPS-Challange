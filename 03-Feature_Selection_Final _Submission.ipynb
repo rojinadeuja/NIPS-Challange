{
 "cells": [
  {
   "cell_type": "markdown",
   "metadata": {},
   "source": [
    "# Feature Selection\n",
    "\n",
    "**PROCESS**\n",
    "For our feature selection model we use the following methods:\n",
    "1. Lasso Regularization\n",
    "2. Tree-based Classification (Random Tree Classifier with Gradient Boosting)\n",
    "3. Sequential Forward Selection (SFS)\n",
    "4. Exhasutive Forwars Selection (EFS)l\n",
    "\n",
    "Before starting on our feature selection model, we also use the sklearn.feature_selection_SelectKBest model as a baseline. We evaluate the performance of this libarary on the dataset with k= 20, since we know that there are 20 combinational useful features. The accuracy of the model to predict the final set of feature set is noted with the help of our benchmark model ie. Decision Tree Classifier.\n",
    "\n",
    "\n",
    "\n",
    "**RESULTS**\n",
    "We combine the two methods with the highest accuracy (Tree-based Classification and Sequential Forward Selection) to carry out a voting of features. The features that are voted by both the methods are moved forward for further processing. As a part of the final task, we carry out an Exhasutive forward selection (Brute-Force) that checks each combination of features to find out the highest accuracy that can be achieved. From this, we finally get our 5 true features."
   ]
  },
  {
   "cell_type": "code",
   "execution_count": 1,
   "metadata": {},
   "outputs": [],
   "source": [
    "import numpy as np, pandas as pd\n",
    "import matplotlib.pyplot as plt, seaborn as sns\n",
    "%matplotlib inline"
   ]
  },
  {
   "cell_type": "code",
   "execution_count": 2,
   "metadata": {},
   "outputs": [],
   "source": [
    "from scipy import stats\n",
    "from sklearn.pipeline import Pipeline, make_pipeline\n",
    "from sklearn.preprocessing import StandardScaler\n",
    "from sklearn.model_selection import train_test_split\n",
    "from sklearn.metrics import accuracy_score\n",
    "\n",
    "from sklearn.feature_selection import SelectFromModel, SelectKBest, RFE, chi2, f_regression\n",
    "\n",
    "from sklearn.linear_model import LogisticRegression\n",
    "from sklearn.neighbors import KNeighborsClassifier\n",
    "from sklearn.tree import DecisionTreeClassifier\n",
    "from sklearn.svm import SVC\n",
    "from sklearn.ensemble import RandomForestClassifier, GradientBoostingClassifier, ExtraTreesClassifier"
   ]
  },
  {
   "cell_type": "markdown",
   "metadata": {},
   "source": [
    "### Load Data"
   ]
  },
  {
   "cell_type": "code",
   "execution_count": 3,
   "metadata": {},
   "outputs": [
    {
     "data": {
      "text/html": [
       "<div>\n",
       "<style scoped>\n",
       "    .dataframe tbody tr th:only-of-type {\n",
       "        vertical-align: middle;\n",
       "    }\n",
       "\n",
       "    .dataframe tbody tr th {\n",
       "        vertical-align: top;\n",
       "    }\n",
       "\n",
       "    .dataframe thead th {\n",
       "        text-align: right;\n",
       "    }\n",
       "</style>\n",
       "<table border=\"1\" class=\"dataframe\">\n",
       "  <thead>\n",
       "    <tr style=\"text-align: right;\">\n",
       "      <th></th>\n",
       "      <th>V1</th>\n",
       "      <th>V2</th>\n",
       "      <th>V3</th>\n",
       "      <th>V4</th>\n",
       "      <th>V5</th>\n",
       "      <th>V6</th>\n",
       "      <th>V7</th>\n",
       "      <th>V8</th>\n",
       "      <th>V9</th>\n",
       "      <th>V10</th>\n",
       "      <th>...</th>\n",
       "      <th>V492</th>\n",
       "      <th>V493</th>\n",
       "      <th>V494</th>\n",
       "      <th>V495</th>\n",
       "      <th>V496</th>\n",
       "      <th>V497</th>\n",
       "      <th>V498</th>\n",
       "      <th>V499</th>\n",
       "      <th>V500</th>\n",
       "      <th>Class</th>\n",
       "    </tr>\n",
       "  </thead>\n",
       "  <tbody>\n",
       "    <tr>\n",
       "      <th>0</th>\n",
       "      <td>485</td>\n",
       "      <td>477</td>\n",
       "      <td>537</td>\n",
       "      <td>479</td>\n",
       "      <td>452</td>\n",
       "      <td>471</td>\n",
       "      <td>491</td>\n",
       "      <td>476</td>\n",
       "      <td>475</td>\n",
       "      <td>473</td>\n",
       "      <td>...</td>\n",
       "      <td>481</td>\n",
       "      <td>477</td>\n",
       "      <td>485</td>\n",
       "      <td>511</td>\n",
       "      <td>485</td>\n",
       "      <td>481</td>\n",
       "      <td>479</td>\n",
       "      <td>475</td>\n",
       "      <td>496</td>\n",
       "      <td>2</td>\n",
       "    </tr>\n",
       "    <tr>\n",
       "      <th>1</th>\n",
       "      <td>483</td>\n",
       "      <td>458</td>\n",
       "      <td>460</td>\n",
       "      <td>487</td>\n",
       "      <td>587</td>\n",
       "      <td>475</td>\n",
       "      <td>526</td>\n",
       "      <td>479</td>\n",
       "      <td>485</td>\n",
       "      <td>469</td>\n",
       "      <td>...</td>\n",
       "      <td>478</td>\n",
       "      <td>487</td>\n",
       "      <td>338</td>\n",
       "      <td>513</td>\n",
       "      <td>486</td>\n",
       "      <td>483</td>\n",
       "      <td>492</td>\n",
       "      <td>510</td>\n",
       "      <td>517</td>\n",
       "      <td>2</td>\n",
       "    </tr>\n",
       "    <tr>\n",
       "      <th>2</th>\n",
       "      <td>487</td>\n",
       "      <td>542</td>\n",
       "      <td>499</td>\n",
       "      <td>468</td>\n",
       "      <td>448</td>\n",
       "      <td>471</td>\n",
       "      <td>442</td>\n",
       "      <td>478</td>\n",
       "      <td>480</td>\n",
       "      <td>477</td>\n",
       "      <td>...</td>\n",
       "      <td>481</td>\n",
       "      <td>492</td>\n",
       "      <td>650</td>\n",
       "      <td>506</td>\n",
       "      <td>501</td>\n",
       "      <td>480</td>\n",
       "      <td>489</td>\n",
       "      <td>499</td>\n",
       "      <td>498</td>\n",
       "      <td>2</td>\n",
       "    </tr>\n",
       "    <tr>\n",
       "      <th>3</th>\n",
       "      <td>480</td>\n",
       "      <td>491</td>\n",
       "      <td>510</td>\n",
       "      <td>485</td>\n",
       "      <td>495</td>\n",
       "      <td>472</td>\n",
       "      <td>417</td>\n",
       "      <td>474</td>\n",
       "      <td>502</td>\n",
       "      <td>476</td>\n",
       "      <td>...</td>\n",
       "      <td>480</td>\n",
       "      <td>474</td>\n",
       "      <td>572</td>\n",
       "      <td>454</td>\n",
       "      <td>469</td>\n",
       "      <td>475</td>\n",
       "      <td>482</td>\n",
       "      <td>494</td>\n",
       "      <td>461</td>\n",
       "      <td>1</td>\n",
       "    </tr>\n",
       "    <tr>\n",
       "      <th>4</th>\n",
       "      <td>484</td>\n",
       "      <td>502</td>\n",
       "      <td>528</td>\n",
       "      <td>489</td>\n",
       "      <td>466</td>\n",
       "      <td>481</td>\n",
       "      <td>402</td>\n",
       "      <td>478</td>\n",
       "      <td>487</td>\n",
       "      <td>468</td>\n",
       "      <td>...</td>\n",
       "      <td>479</td>\n",
       "      <td>452</td>\n",
       "      <td>435</td>\n",
       "      <td>486</td>\n",
       "      <td>508</td>\n",
       "      <td>481</td>\n",
       "      <td>504</td>\n",
       "      <td>495</td>\n",
       "      <td>511</td>\n",
       "      <td>1</td>\n",
       "    </tr>\n",
       "  </tbody>\n",
       "</table>\n",
       "<p>5 rows × 501 columns</p>\n",
       "</div>"
      ],
      "text/plain": [
       "    V1   V2   V3   V4   V5   V6   V7   V8   V9  V10  ...  V492  V493  V494  \\\n",
       "0  485  477  537  479  452  471  491  476  475  473  ...   481   477   485   \n",
       "1  483  458  460  487  587  475  526  479  485  469  ...   478   487   338   \n",
       "2  487  542  499  468  448  471  442  478  480  477  ...   481   492   650   \n",
       "3  480  491  510  485  495  472  417  474  502  476  ...   480   474   572   \n",
       "4  484  502  528  489  466  481  402  478  487  468  ...   479   452   435   \n",
       "\n",
       "   V495  V496  V497  V498  V499  V500  Class  \n",
       "0   511   485   481   479   475   496      2  \n",
       "1   513   486   483   492   510   517      2  \n",
       "2   506   501   480   489   499   498      2  \n",
       "3   454   469   475   482   494   461      1  \n",
       "4   486   508   481   504   495   511      1  \n",
       "\n",
       "[5 rows x 501 columns]"
      ]
     },
     "execution_count": 3,
     "metadata": {},
     "output_type": "execute_result"
    }
   ],
   "source": [
    "'''Load and quick check the data'''\n",
    "df= pd.read_csv(\"medilon.csv\")\n",
    "df.head()"
   ]
  },
  {
   "cell_type": "code",
   "execution_count": 4,
   "metadata": {},
   "outputs": [],
   "source": [
    "X = df.drop(['Class'], axis = 1)\n",
    "y = df['Class']"
   ]
  },
  {
   "cell_type": "code",
   "execution_count": 5,
   "metadata": {},
   "outputs": [],
   "source": [
    "X_train, X_test, y_train, y_test = train_test_split(X, y, test_size=0.2, random_state=42)"
   ]
  },
  {
   "cell_type": "markdown",
   "metadata": {},
   "source": [
    "## 1. SelectKBest\n",
    "Firstly, we use the sklearn's SelectKBest for selecting our prominent features."
   ]
  },
  {
   "cell_type": "code",
   "execution_count": 6,
   "metadata": {},
   "outputs": [],
   "source": [
    "skb = SelectKBest()"
   ]
  },
  {
   "cell_type": "code",
   "execution_count": 7,
   "metadata": {},
   "outputs": [],
   "source": [
    "def find_KBest(data):\n",
    "    '''\n",
    "    Find the 20 best features from a set of data. Data input should come without a target column.\n",
    "    '''\n",
    "    for col in data.columns:\n",
    "        \n",
    "        X = data.drop([col], axis = 1)\n",
    "        y = data[col]\n",
    "        \n",
    "        X_train, X_test, y_train, y_test = train_test_split(X, y, test_size = 0.2)\n",
    "        \n",
    "        fit = SelectKBest(score_func= f_regression, k=20).fit(X_train, y_train)\n",
    "    \n",
    "        skb_feats = list(np.where(fit.get_support())[0])\n",
    "        \n",
    "    return skb_feats"
   ]
  },
  {
   "cell_type": "code",
   "execution_count": 8,
   "metadata": {},
   "outputs": [],
   "source": [
    "skb_feats = find_KBest(X)"
   ]
  },
  {
   "cell_type": "code",
   "execution_count": 9,
   "metadata": {},
   "outputs": [
    {
     "name": "stdout",
     "output_type": "stream",
     "text": [
      "The number of features selected are: 20\n",
      "The selected features are: [12, 13, 32, 34, 76, 115, 183, 192, 238, 304, 316, 339, 350, 381, 389, 390, 425, 451, 474, 488]\n"
     ]
    }
   ],
   "source": [
    "print('The number of features selected are:', len(skb_feats))\n",
    "print('The selected features are:', skb_feats)"
   ]
  },
  {
   "cell_type": "code",
   "execution_count": 10,
   "metadata": {},
   "outputs": [
    {
     "data": {
      "text/html": [
       "<div>\n",
       "<style scoped>\n",
       "    .dataframe tbody tr th:only-of-type {\n",
       "        vertical-align: middle;\n",
       "    }\n",
       "\n",
       "    .dataframe tbody tr th {\n",
       "        vertical-align: top;\n",
       "    }\n",
       "\n",
       "    .dataframe thead th {\n",
       "        text-align: right;\n",
       "    }\n",
       "</style>\n",
       "<table border=\"1\" class=\"dataframe\">\n",
       "  <thead>\n",
       "    <tr style=\"text-align: right;\">\n",
       "      <th></th>\n",
       "      <th>V13</th>\n",
       "      <th>V14</th>\n",
       "      <th>V33</th>\n",
       "      <th>V35</th>\n",
       "      <th>V77</th>\n",
       "      <th>V116</th>\n",
       "      <th>V184</th>\n",
       "      <th>V193</th>\n",
       "      <th>V239</th>\n",
       "      <th>V305</th>\n",
       "      <th>V317</th>\n",
       "      <th>V340</th>\n",
       "      <th>V351</th>\n",
       "      <th>V382</th>\n",
       "      <th>V390</th>\n",
       "      <th>V391</th>\n",
       "      <th>V426</th>\n",
       "      <th>V452</th>\n",
       "      <th>V475</th>\n",
       "      <th>V489</th>\n",
       "    </tr>\n",
       "  </thead>\n",
       "  <tbody>\n",
       "    <tr>\n",
       "      <th>1593</th>\n",
       "      <td>494</td>\n",
       "      <td>504</td>\n",
       "      <td>455</td>\n",
       "      <td>471</td>\n",
       "      <td>482</td>\n",
       "      <td>432</td>\n",
       "      <td>468</td>\n",
       "      <td>485</td>\n",
       "      <td>439</td>\n",
       "      <td>471</td>\n",
       "      <td>480</td>\n",
       "      <td>493</td>\n",
       "      <td>473</td>\n",
       "      <td>474</td>\n",
       "      <td>464</td>\n",
       "      <td>471</td>\n",
       "      <td>500</td>\n",
       "      <td>466</td>\n",
       "      <td>481</td>\n",
       "      <td>465</td>\n",
       "    </tr>\n",
       "    <tr>\n",
       "      <th>196</th>\n",
       "      <td>497</td>\n",
       "      <td>504</td>\n",
       "      <td>481</td>\n",
       "      <td>482</td>\n",
       "      <td>477</td>\n",
       "      <td>491</td>\n",
       "      <td>493</td>\n",
       "      <td>508</td>\n",
       "      <td>486</td>\n",
       "      <td>465</td>\n",
       "      <td>477</td>\n",
       "      <td>461</td>\n",
       "      <td>481</td>\n",
       "      <td>478</td>\n",
       "      <td>511</td>\n",
       "      <td>483</td>\n",
       "      <td>486</td>\n",
       "      <td>482</td>\n",
       "      <td>482</td>\n",
       "      <td>480</td>\n",
       "    </tr>\n",
       "    <tr>\n",
       "      <th>239</th>\n",
       "      <td>526</td>\n",
       "      <td>494</td>\n",
       "      <td>475</td>\n",
       "      <td>496</td>\n",
       "      <td>476</td>\n",
       "      <td>473</td>\n",
       "      <td>421</td>\n",
       "      <td>512</td>\n",
       "      <td>474</td>\n",
       "      <td>526</td>\n",
       "      <td>467</td>\n",
       "      <td>506</td>\n",
       "      <td>488</td>\n",
       "      <td>483</td>\n",
       "      <td>569</td>\n",
       "      <td>478</td>\n",
       "      <td>489</td>\n",
       "      <td>488</td>\n",
       "      <td>485</td>\n",
       "      <td>502</td>\n",
       "    </tr>\n",
       "    <tr>\n",
       "      <th>2126</th>\n",
       "      <td>453</td>\n",
       "      <td>424</td>\n",
       "      <td>542</td>\n",
       "      <td>453</td>\n",
       "      <td>490</td>\n",
       "      <td>509</td>\n",
       "      <td>466</td>\n",
       "      <td>460</td>\n",
       "      <td>463</td>\n",
       "      <td>557</td>\n",
       "      <td>488</td>\n",
       "      <td>430</td>\n",
       "      <td>475</td>\n",
       "      <td>477</td>\n",
       "      <td>437</td>\n",
       "      <td>474</td>\n",
       "      <td>488</td>\n",
       "      <td>473</td>\n",
       "      <td>477</td>\n",
       "      <td>500</td>\n",
       "    </tr>\n",
       "    <tr>\n",
       "      <th>1587</th>\n",
       "      <td>444</td>\n",
       "      <td>462</td>\n",
       "      <td>500</td>\n",
       "      <td>488</td>\n",
       "      <td>476</td>\n",
       "      <td>482</td>\n",
       "      <td>474</td>\n",
       "      <td>542</td>\n",
       "      <td>441</td>\n",
       "      <td>497</td>\n",
       "      <td>469</td>\n",
       "      <td>543</td>\n",
       "      <td>483</td>\n",
       "      <td>471</td>\n",
       "      <td>523</td>\n",
       "      <td>473</td>\n",
       "      <td>504</td>\n",
       "      <td>484</td>\n",
       "      <td>485</td>\n",
       "      <td>507</td>\n",
       "    </tr>\n",
       "  </tbody>\n",
       "</table>\n",
       "</div>"
      ],
      "text/plain": [
       "      V13  V14  V33  V35  V77  V116  V184  V193  V239  V305  V317  V340  V351  \\\n",
       "1593  494  504  455  471  482   432   468   485   439   471   480   493   473   \n",
       "196   497  504  481  482  477   491   493   508   486   465   477   461   481   \n",
       "239   526  494  475  496  476   473   421   512   474   526   467   506   488   \n",
       "2126  453  424  542  453  490   509   466   460   463   557   488   430   475   \n",
       "1587  444  462  500  488  476   482   474   542   441   497   469   543   483   \n",
       "\n",
       "      V382  V390  V391  V426  V452  V475  V489  \n",
       "1593   474   464   471   500   466   481   465  \n",
       "196    478   511   483   486   482   482   480  \n",
       "239    483   569   478   489   488   485   502  \n",
       "2126   477   437   474   488   473   477   500  \n",
       "1587   471   523   473   504   484   485   507  "
      ]
     },
     "execution_count": 10,
     "metadata": {},
     "output_type": "execute_result"
    }
   ],
   "source": [
    "X_train_kbest = X_train.iloc[:, skb_feats]\n",
    "X_test_kbest = X_test.iloc[:, skb_feats]\n",
    "X_test_kbest.head()"
   ]
  },
  {
   "cell_type": "code",
   "execution_count": 11,
   "metadata": {},
   "outputs": [
    {
     "name": "stdout",
     "output_type": "stream",
     "text": [
      "The testing accuracy for the SelectKBest Model is,  0.47307692307692306\n"
     ]
    }
   ],
   "source": [
    "scaler = StandardScaler().fit(X_train_kbest)\n",
    "X_train_kbest = scaler.transform(X_train_kbest)\n",
    "\n",
    "scaler = StandardScaler().fit(X_test_kbest)\n",
    "X_test_kbest = scaler.transform(X_test_kbest)\n",
    "\n",
    "clfr = DecisionTreeClassifier(random_state=42)\n",
    "clfr.fit(X_train_kbest, y_train)\n",
    "\n",
    "train_score = clfr.score(X_train_kbest, y_train)\n",
    "test_score = clfr.score(X_test_kbest, y_test)\n",
    "pred = clfr.predict(X_test_kbest)\n",
    "print('The testing accuracy for the SelectKBest Model is, ', test_score)"
   ]
  },
  {
   "cell_type": "markdown",
   "metadata": {},
   "source": [
    "- The problem with SelectKBest is we need to guess the value of \"k\" to get the number of relevant features right. To overcome this limitation, we need a more sophisticated approach to filter out the noisy data.\n",
    "\n",
    "- Recursive Feature Elimination models the data based on the given estimator to pick out the best features, and order them according to the highest accuracy.\n",
    "\n",
    "- We can control the regularization using regression based algorithm with penalty terms. For this method, we use the Lasso or the L1 regularization since it sets the value of undesired features to zero and removes them from the dataset.\n",
    "\n",
    "- Another approach would be to use a non-linear estimator such as a Random Forest Classifier, since it can look past the noise present in the dataset. It generates multiple hundred trees that contain some degree of randomization which helps to escape the correlations between similar trees. Random forest overcomes such bias that might be present when using only a single estimator like a Decision Tree Classifier."
   ]
  },
  {
   "cell_type": "markdown",
   "metadata": {},
   "source": [
    "## 2. Stepwise Regression (Lasso -L1)\n",
    "       "
   ]
  },
  {
   "cell_type": "code",
   "execution_count": 12,
   "metadata": {},
   "outputs": [
    {
     "name": "stderr",
     "output_type": "stream",
     "text": [
      "c:\\users\\rojin\\appdata\\local\\programs\\python\\python37\\lib\\site-packages\\sklearn\\linear_model\\logistic.py:432: FutureWarning: Default solver will be changed to 'lbfgs' in 0.22. Specify a solver to silence this warning.\n",
      "  FutureWarning)\n"
     ]
    },
    {
     "name": "stdout",
     "output_type": "stream",
     "text": [
      "0.0003\n",
      "Selected features: 5\n"
     ]
    },
    {
     "name": "stderr",
     "output_type": "stream",
     "text": [
      "c:\\users\\rojin\\appdata\\local\\programs\\python\\python37\\lib\\site-packages\\sklearn\\linear_model\\logistic.py:432: FutureWarning: Default solver will be changed to 'lbfgs' in 0.22. Specify a solver to silence this warning.\n",
      "  FutureWarning)\n"
     ]
    },
    {
     "name": "stdout",
     "output_type": "stream",
     "text": [
      "0.00031\n",
      "Selected features: 6\n"
     ]
    },
    {
     "name": "stderr",
     "output_type": "stream",
     "text": [
      "c:\\users\\rojin\\appdata\\local\\programs\\python\\python37\\lib\\site-packages\\sklearn\\linear_model\\logistic.py:432: FutureWarning: Default solver will be changed to 'lbfgs' in 0.22. Specify a solver to silence this warning.\n",
      "  FutureWarning)\n"
     ]
    },
    {
     "name": "stdout",
     "output_type": "stream",
     "text": [
      "0.00032\n",
      "Selected features: 6\n"
     ]
    },
    {
     "name": "stderr",
     "output_type": "stream",
     "text": [
      "c:\\users\\rojin\\appdata\\local\\programs\\python\\python37\\lib\\site-packages\\sklearn\\linear_model\\logistic.py:432: FutureWarning: Default solver will be changed to 'lbfgs' in 0.22. Specify a solver to silence this warning.\n",
      "  FutureWarning)\n"
     ]
    },
    {
     "name": "stdout",
     "output_type": "stream",
     "text": [
      "0.00033000000000000005\n",
      "Selected features: 6\n"
     ]
    },
    {
     "name": "stderr",
     "output_type": "stream",
     "text": [
      "c:\\users\\rojin\\appdata\\local\\programs\\python\\python37\\lib\\site-packages\\sklearn\\linear_model\\logistic.py:432: FutureWarning: Default solver will be changed to 'lbfgs' in 0.22. Specify a solver to silence this warning.\n",
      "  FutureWarning)\n"
     ]
    },
    {
     "name": "stdout",
     "output_type": "stream",
     "text": [
      "0.0003400000000000001\n",
      "Selected features: 7\n"
     ]
    },
    {
     "name": "stderr",
     "output_type": "stream",
     "text": [
      "c:\\users\\rojin\\appdata\\local\\programs\\python\\python37\\lib\\site-packages\\sklearn\\linear_model\\logistic.py:432: FutureWarning: Default solver will be changed to 'lbfgs' in 0.22. Specify a solver to silence this warning.\n",
      "  FutureWarning)\n"
     ]
    },
    {
     "name": "stdout",
     "output_type": "stream",
     "text": [
      "0.0003500000000000001\n",
      "Selected features: 7\n"
     ]
    },
    {
     "name": "stderr",
     "output_type": "stream",
     "text": [
      "c:\\users\\rojin\\appdata\\local\\programs\\python\\python37\\lib\\site-packages\\sklearn\\linear_model\\logistic.py:432: FutureWarning: Default solver will be changed to 'lbfgs' in 0.22. Specify a solver to silence this warning.\n",
      "  FutureWarning)\n"
     ]
    },
    {
     "name": "stdout",
     "output_type": "stream",
     "text": [
      "0.00036000000000000013\n",
      "Selected features: 8\n"
     ]
    },
    {
     "name": "stderr",
     "output_type": "stream",
     "text": [
      "c:\\users\\rojin\\appdata\\local\\programs\\python\\python37\\lib\\site-packages\\sklearn\\linear_model\\logistic.py:432: FutureWarning: Default solver will be changed to 'lbfgs' in 0.22. Specify a solver to silence this warning.\n",
      "  FutureWarning)\n"
     ]
    },
    {
     "name": "stdout",
     "output_type": "stream",
     "text": [
      "0.00037000000000000016\n",
      "Selected features: 8\n"
     ]
    },
    {
     "name": "stderr",
     "output_type": "stream",
     "text": [
      "c:\\users\\rojin\\appdata\\local\\programs\\python\\python37\\lib\\site-packages\\sklearn\\linear_model\\logistic.py:432: FutureWarning: Default solver will be changed to 'lbfgs' in 0.22. Specify a solver to silence this warning.\n",
      "  FutureWarning)\n"
     ]
    },
    {
     "name": "stdout",
     "output_type": "stream",
     "text": [
      "0.0003800000000000002\n",
      "Selected features: 9\n"
     ]
    },
    {
     "name": "stderr",
     "output_type": "stream",
     "text": [
      "c:\\users\\rojin\\appdata\\local\\programs\\python\\python37\\lib\\site-packages\\sklearn\\linear_model\\logistic.py:432: FutureWarning: Default solver will be changed to 'lbfgs' in 0.22. Specify a solver to silence this warning.\n",
      "  FutureWarning)\n"
     ]
    },
    {
     "name": "stdout",
     "output_type": "stream",
     "text": [
      "0.0003900000000000002\n",
      "Selected features: 9\n"
     ]
    },
    {
     "name": "stderr",
     "output_type": "stream",
     "text": [
      "c:\\users\\rojin\\appdata\\local\\programs\\python\\python37\\lib\\site-packages\\sklearn\\linear_model\\logistic.py:432: FutureWarning: Default solver will be changed to 'lbfgs' in 0.22. Specify a solver to silence this warning.\n",
      "  FutureWarning)\n"
     ]
    },
    {
     "name": "stdout",
     "output_type": "stream",
     "text": [
      "0.00040000000000000024\n",
      "Selected features: 9\n"
     ]
    },
    {
     "name": "stderr",
     "output_type": "stream",
     "text": [
      "c:\\users\\rojin\\appdata\\local\\programs\\python\\python37\\lib\\site-packages\\sklearn\\linear_model\\logistic.py:432: FutureWarning: Default solver will be changed to 'lbfgs' in 0.22. Specify a solver to silence this warning.\n",
      "  FutureWarning)\n"
     ]
    },
    {
     "name": "stdout",
     "output_type": "stream",
     "text": [
      "0.00041000000000000026\n",
      "Selected features: 9\n"
     ]
    },
    {
     "name": "stderr",
     "output_type": "stream",
     "text": [
      "c:\\users\\rojin\\appdata\\local\\programs\\python\\python37\\lib\\site-packages\\sklearn\\linear_model\\logistic.py:432: FutureWarning: Default solver will be changed to 'lbfgs' in 0.22. Specify a solver to silence this warning.\n",
      "  FutureWarning)\n"
     ]
    },
    {
     "name": "stdout",
     "output_type": "stream",
     "text": [
      "0.0004200000000000003\n",
      "Selected features: 10\n"
     ]
    },
    {
     "name": "stderr",
     "output_type": "stream",
     "text": [
      "c:\\users\\rojin\\appdata\\local\\programs\\python\\python37\\lib\\site-packages\\sklearn\\linear_model\\logistic.py:432: FutureWarning: Default solver will be changed to 'lbfgs' in 0.22. Specify a solver to silence this warning.\n",
      "  FutureWarning)\n"
     ]
    },
    {
     "name": "stdout",
     "output_type": "stream",
     "text": [
      "0.0004300000000000003\n",
      "Selected features: 10\n"
     ]
    },
    {
     "name": "stderr",
     "output_type": "stream",
     "text": [
      "c:\\users\\rojin\\appdata\\local\\programs\\python\\python37\\lib\\site-packages\\sklearn\\linear_model\\logistic.py:432: FutureWarning: Default solver will be changed to 'lbfgs' in 0.22. Specify a solver to silence this warning.\n",
      "  FutureWarning)\n"
     ]
    },
    {
     "name": "stdout",
     "output_type": "stream",
     "text": [
      "0.00044000000000000034\n",
      "Selected features: 12\n"
     ]
    },
    {
     "name": "stderr",
     "output_type": "stream",
     "text": [
      "c:\\users\\rojin\\appdata\\local\\programs\\python\\python37\\lib\\site-packages\\sklearn\\linear_model\\logistic.py:432: FutureWarning: Default solver will be changed to 'lbfgs' in 0.22. Specify a solver to silence this warning.\n",
      "  FutureWarning)\n"
     ]
    },
    {
     "name": "stdout",
     "output_type": "stream",
     "text": [
      "0.00045000000000000037\n",
      "Selected features: 12\n"
     ]
    },
    {
     "name": "stderr",
     "output_type": "stream",
     "text": [
      "c:\\users\\rojin\\appdata\\local\\programs\\python\\python37\\lib\\site-packages\\sklearn\\linear_model\\logistic.py:432: FutureWarning: Default solver will be changed to 'lbfgs' in 0.22. Specify a solver to silence this warning.\n",
      "  FutureWarning)\n"
     ]
    },
    {
     "name": "stdout",
     "output_type": "stream",
     "text": [
      "0.0004600000000000004\n",
      "Selected features: 12\n"
     ]
    },
    {
     "name": "stderr",
     "output_type": "stream",
     "text": [
      "c:\\users\\rojin\\appdata\\local\\programs\\python\\python37\\lib\\site-packages\\sklearn\\linear_model\\logistic.py:432: FutureWarning: Default solver will be changed to 'lbfgs' in 0.22. Specify a solver to silence this warning.\n",
      "  FutureWarning)\n"
     ]
    },
    {
     "name": "stdout",
     "output_type": "stream",
     "text": [
      "0.0004700000000000004\n",
      "Selected features: 13\n"
     ]
    },
    {
     "name": "stderr",
     "output_type": "stream",
     "text": [
      "c:\\users\\rojin\\appdata\\local\\programs\\python\\python37\\lib\\site-packages\\sklearn\\linear_model\\logistic.py:432: FutureWarning: Default solver will be changed to 'lbfgs' in 0.22. Specify a solver to silence this warning.\n",
      "  FutureWarning)\n"
     ]
    },
    {
     "name": "stdout",
     "output_type": "stream",
     "text": [
      "0.00048000000000000045\n",
      "Selected features: 14\n"
     ]
    },
    {
     "name": "stderr",
     "output_type": "stream",
     "text": [
      "c:\\users\\rojin\\appdata\\local\\programs\\python\\python37\\lib\\site-packages\\sklearn\\linear_model\\logistic.py:432: FutureWarning: Default solver will be changed to 'lbfgs' in 0.22. Specify a solver to silence this warning.\n",
      "  FutureWarning)\n"
     ]
    },
    {
     "name": "stdout",
     "output_type": "stream",
     "text": [
      "0.0004900000000000004\n",
      "Selected features: 15\n"
     ]
    },
    {
     "name": "stderr",
     "output_type": "stream",
     "text": [
      "c:\\users\\rojin\\appdata\\local\\programs\\python\\python37\\lib\\site-packages\\sklearn\\linear_model\\logistic.py:432: FutureWarning: Default solver will be changed to 'lbfgs' in 0.22. Specify a solver to silence this warning.\n",
      "  FutureWarning)\n"
     ]
    },
    {
     "name": "stdout",
     "output_type": "stream",
     "text": [
      "0.0005000000000000004\n",
      "Selected features: 15\n"
     ]
    }
   ],
   "source": [
    "'''Hyperparameter tuning to find optimal C'''\n",
    "from sklearn.linear_model import Lasso, LogisticRegression\n",
    "from sklearn.feature_selection import SelectFromModel\n",
    "\n",
    "cs_ = []\n",
    "scores_ = []\n",
    "for c in np.arange(0.0003, 0.0005, 0.00001):\n",
    "    '''We use a Logistic Regression model with the penalty set to Lasso (L1) regularization.\n",
    "    Then we use selectFromModel from sklearn, which will select the features whose coefficients are non-zero.'''\n",
    "    sel_ = SelectFromModel(estimator=LogisticRegression( C=c , penalty='l1'))\n",
    "    sel_.fit(X_train, y_train)\n",
    "    selected_feat = X_train.columns[(sel_.get_support())] #Make a list of with selected features\n",
    "    print(c)\n",
    "    print('Selected features: {}'.format(len(selected_feat)))\n",
    "    X_train_selected = sel_.transform(X_train)\n",
    "    X_test_selected = sel_.transform(X_test)\n",
    "    clfr = DecisionTreeClassifier(random_state=42)\n",
    "    clfr.fit(X_train_selected, y_train)\n",
    "    test_score = clfr.score(X_test_selected, y_test)\n",
    "    cs_.append(c)\n",
    "    scores_.append(test_score)"
   ]
  },
  {
   "cell_type": "code",
   "execution_count": 13,
   "metadata": {},
   "outputs": [
    {
     "name": "stdout",
     "output_type": "stream",
     "text": [
      "The optimal value of parameter C is 0.00036000000000000013 0.7942307692307692\n",
      "Highest accuracy achieved is, 0.7942307692307692\n"
     ]
    }
   ],
   "source": [
    "import operator\n",
    "index, value = max(enumerate(scores_), key=operator.itemgetter(1))\n",
    "index, value\n",
    "print(\"The optimal value of parameter C is\", cs_[index], scores_[index])\n",
    "print(\"Highest accuracy achieved is,\", scores_[index])"
   ]
  },
  {
   "cell_type": "code",
   "execution_count": 14,
   "metadata": {},
   "outputs": [
    {
     "name": "stderr",
     "output_type": "stream",
     "text": [
      "c:\\users\\rojin\\appdata\\local\\programs\\python\\python37\\lib\\site-packages\\sklearn\\linear_model\\logistic.py:432: FutureWarning: Default solver will be changed to 'lbfgs' in 0.22. Specify a solver to silence this warning.\n",
      "  FutureWarning)\n"
     ]
    },
    {
     "data": {
      "text/plain": [
       "SelectFromModel(estimator=LogisticRegression(C=0.00036, class_weight=None,\n",
       "                                             dual=False, fit_intercept=True,\n",
       "                                             intercept_scaling=1, l1_ratio=None,\n",
       "                                             max_iter=100, multi_class='warn',\n",
       "                                             n_jobs=None, penalty='l1',\n",
       "                                             random_state=None, solver='warn',\n",
       "                                             tol=0.0001, verbose=0,\n",
       "                                             warm_start=False),\n",
       "                max_features=None, norm_order=1, prefit=False, threshold=None)"
      ]
     },
     "execution_count": 14,
     "metadata": {},
     "output_type": "execute_result"
    }
   ],
   "source": [
    "from sklearn.linear_model import Lasso, LogisticRegression\n",
    "from sklearn.feature_selection import SelectFromModel\n",
    "\n",
    "'''We use a Logistic Regression model with the penalty set to Lasso (L1) regularization.\n",
    "Then we use selectFromModel from sklearn, which will select the features whose coefficients are non-zero.'''\n",
    "sel_ = SelectFromModel(estimator=LogisticRegression(C=0.00036, penalty='l1')) #0.00036 0.000659\n",
    "sel_.fit(X_train, y_train)"
   ]
  },
  {
   "cell_type": "code",
   "execution_count": 15,
   "metadata": {},
   "outputs": [
    {
     "data": {
      "text/plain": [
       "array([False, False, False, False, False, False, False, False, False,\n",
       "       False, False, False, False, False, False, False, False, False,\n",
       "       False, False, False, False, False, False, False, False, False,\n",
       "       False, False, False, False, False, False, False, False, False,\n",
       "       False, False, False, False, False, False, False, False, False,\n",
       "       False, False, False, False, False, False, False, False, False,\n",
       "       False, False, False, False, False, False, False, False, False,\n",
       "       False, False, False, False, False, False, False, False, False,\n",
       "       False, False, False, False, False, False, False, False, False,\n",
       "       False, False, False, False, False, False, False, False, False,\n",
       "       False, False, False, False, False, False, False, False, False,\n",
       "       False, False, False, False, False, False, False, False, False,\n",
       "       False, False, False, False, False, False, False, False, False,\n",
       "       False, False, False, False, False, False, False, False, False,\n",
       "       False, False, False, False, False, False, False, False, False,\n",
       "       False, False, False, False, False, False, False, False, False,\n",
       "       False, False, False, False, False, False, False, False, False,\n",
       "       False, False, False, False, False, False, False, False, False,\n",
       "       False, False, False, False, False, False, False, False, False,\n",
       "       False, False, False, False, False, False, False, False, False,\n",
       "       False, False, False, False, False, False, False, False, False,\n",
       "       False, False, False, False, False, False, False, False, False,\n",
       "       False, False, False, False, False, False, False, False, False,\n",
       "       False, False, False, False, False, False, False, False, False,\n",
       "       False, False, False, False, False,  True, False, False, False,\n",
       "       False, False, False, False, False, False, False, False, False,\n",
       "       False, False, False, False, False, False, False, False, False,\n",
       "       False, False, False, False, False, False, False, False, False,\n",
       "       False, False, False, False, False, False, False, False, False,\n",
       "       False, False, False, False, False, False, False, False, False,\n",
       "       False, False, False, False, False, False, False, False, False,\n",
       "       False, False, False, False, False, False,  True, False, False,\n",
       "       False, False, False, False, False, False, False, False, False,\n",
       "       False, False, False, False, False, False, False, False, False,\n",
       "       False, False, False, False, False, False, False, False, False,\n",
       "       False, False, False, False, False, False, False, False, False,\n",
       "       False, False, False, False, False, False, False, False, False,\n",
       "       False, False, False,  True, False,  True, False, False, False,\n",
       "       False, False, False, False, False, False, False, False, False,\n",
       "       False, False, False, False, False, False, False, False, False,\n",
       "       False, False, False, False, False, False, False, False, False,\n",
       "       False, False, False, False, False, False, False, False, False,\n",
       "        True, False, False, False, False, False, False, False, False,\n",
       "       False, False, False, False, False, False, False, False, False,\n",
       "       False, False, False, False, False, False, False, False, False,\n",
       "       False, False, False, False, False, False, False, False, False,\n",
       "       False, False, False, False, False, False, False, False, False,\n",
       "       False, False, False, False, False, False, False, False, False,\n",
       "       False, False, False, False, False, False, False, False, False,\n",
       "       False,  True, False, False, False, False, False, False, False,\n",
       "       False, False, False, False, False, False, False, False, False,\n",
       "       False, False, False, False, False, False, False, False, False,\n",
       "       False, False, False, False, False, False, False,  True, False,\n",
       "       False, False, False, False, False, False, False, False, False,\n",
       "       False, False, False, False, False, False, False,  True, False,\n",
       "       False, False, False, False, False])"
      ]
     },
     "execution_count": 15,
     "metadata": {},
     "output_type": "execute_result"
    }
   ],
   "source": [
    "'''We see which features were kept (True) and which were discarded (False) in the resulting array'''\n",
    "sel_.get_support()"
   ]
  },
  {
   "cell_type": "code",
   "execution_count": 16,
   "metadata": {},
   "outputs": [
    {
     "name": "stdout",
     "output_type": "stream",
     "text": [
      "Total features: 500\n",
      "Selected features: 8\n",
      "Features with coefficients shrunk to 0: 492\n",
      "Index(['V222', 'V286', 'V337', 'V339', 'V379', 'V443', 'V476', 'V494'], dtype='object')\n"
     ]
    }
   ],
   "source": [
    "selected_feat = X_train.columns[(sel_.get_support())] #Make a list of with selected features\n",
    "print('Total features: {}'.format((X_train.shape[1])))\n",
    "print('Selected features: {}'.format(len(selected_feat)))\n",
    "print('Features with coefficients shrunk to 0: {}'.format(\n",
    "      np.sum(sel_.estimator_.coef_ == 0)))\n",
    "print(selected_feat) "
   ]
  },
  {
   "cell_type": "code",
   "execution_count": 17,
   "metadata": {},
   "outputs": [],
   "source": [
    "def get_index(Selected_features):\n",
    "    Selected_indexes = []\n",
    "    for feat in Selected_features:\n",
    "        val = feat[1:]\n",
    "        index = int(val) -1\n",
    "        Selected_indexes.append(index)\n",
    "    return Selected_indexes"
   ]
  },
  {
   "cell_type": "code",
   "execution_count": 18,
   "metadata": {},
   "outputs": [
    {
     "data": {
      "text/plain": [
       "[221, 285, 336, 338, 378, 442, 475, 493]"
      ]
     },
     "execution_count": 18,
     "metadata": {},
     "output_type": "execute_result"
    }
   ],
   "source": [
    "Selected_features = list(selected_feat) #List the selected features\n",
    "Selected_indexes_Lasso = get_index(Selected_features) ##[28, 48, 336, 338, 493]\n",
    "Selected_indexes_Lasso"
   ]
  },
  {
   "cell_type": "code",
   "execution_count": 19,
   "metadata": {},
   "outputs": [
    {
     "data": {
      "text/plain": [
       "((2080, 8), (520, 8))"
      ]
     },
     "execution_count": 19,
     "metadata": {},
     "output_type": "execute_result"
    }
   ],
   "source": [
    "'''Keep only the selected features in the dataset'''\n",
    "X_train_selected = sel_.transform(X_train)\n",
    "X_test_selected = sel_.transform(X_test)\n",
    "X_train_selected.shape, X_test_selected.shape #Check if features removed successfully"
   ]
  },
  {
   "cell_type": "code",
   "execution_count": 20,
   "metadata": {},
   "outputs": [],
   "source": [
    "'''Use our benchmark model ie. DecisionTreeClassifier for prediction'''\n",
    "clfr = DecisionTreeClassifier(random_state=42)\n",
    "clfr.fit(X_train_selected, y_train)\n",
    "train_score = clfr.score(X_train_selected, y_train)\n",
    "test_score = clfr.score(X_test_selected, y_test)\n",
    "pred = clfr.predict(X_test_selected)"
   ]
  },
  {
   "cell_type": "code",
   "execution_count": 21,
   "metadata": {},
   "outputs": [
    {
     "name": "stdout",
     "output_type": "stream",
     "text": [
      "The accuracy from Lasso regression method is 0.7942307692307692\n"
     ]
    }
   ],
   "source": [
    "print('The accuracy from Lasso regression method is', test_score) #Print accuracy on the test set"
   ]
  },
  {
   "cell_type": "code",
   "execution_count": 22,
   "metadata": {},
   "outputs": [
    {
     "name": "stdout",
     "output_type": "stream",
     "text": [
      "Hence, with Lasso regression we get accuracy (Decision Tree): 0.7942307692307692\n",
      "The selected features are: [221, 285, 336, 338, 378, 442, 475, 493]\n"
     ]
    }
   ],
   "source": [
    "'''Conclusion'''\n",
    "print('Hence, with Lasso regression we get accuracy (Decision Tree):', test_score)\n",
    "print('The selected features are:', Selected_indexes_Lasso)"
   ]
  },
  {
   "cell_type": "markdown",
   "metadata": {},
   "source": [
    "## 3. Tree-based Selection"
   ]
  },
  {
   "cell_type": "code",
   "execution_count": 23,
   "metadata": {},
   "outputs": [],
   "source": [
    "'''Load data'''\n",
    "X = df.drop(['Class'], axis = 1)\n",
    "y = df['Class']\n",
    "\n",
    "scaler= StandardScaler().fit(X)\n",
    "X = scaler.transform(X)\n",
    "\n",
    "X_train, X_test, y_train, y_test = train_test_split(X, y, test_size=0.2, random_state=42)\n",
    "\n",
    "X = pd.DataFrame(X)"
   ]
  },
  {
   "cell_type": "code",
   "execution_count": 24,
   "metadata": {},
   "outputs": [
    {
     "data": {
      "image/png": "[encoded data removed]",
      "text/plain": [
       "<Figure size 1440x720 with 1 Axes>"
      ]
     },
     "metadata": {
      "needs_background": "light"
     },
     "output_type": "display_data"
    }
   ],
   "source": [
    "'''Impurity-based feature importance of RandomForestCClassifier'''\n",
    "rfc = RandomForestClassifier(n_estimators = 100, random_state = 0, n_jobs = -1)\n",
    " \n",
    "feat_labels = X.columns.values\n",
    "\n",
    "rfc.fit(X, y)\n",
    "\n",
    "importances = rfc.feature_importances_\n",
    "indices = np.argsort(importances)[::-1]\n",
    "std = np.std([tree.feature_importances_ for tree in rfc.estimators_],\n",
    "                 axis=0)\n",
    "zipped = zip(feat_labels, importances)\n",
    "\n",
    "sorted_list = sorted(zipped, key=lambda x: x[1])\n",
    "gini_values = sorted_list[::-1]\n",
    "\n",
    "a_rfc = gini_values[:20]\n",
    "\n",
    "top_n = 20\n",
    "indices = indices[0:top_n]\n",
    "plt.figure(figsize = (20,10))\n",
    "plt.title(\"Feature importances top %d by Random Forest Classifier\" % top_n)\n",
    "plt.bar(range(top_n), importances[indices], \n",
    "        color=\"r\", yerr=std[indices], align=\"center\")\n",
    "plt.xticks(range(top_n), indices)\n",
    "plt.xlim([-1,top_n])\n",
    "plt.show()"
   ]
  },
  {
   "cell_type": "code",
   "execution_count": 25,
   "metadata": {},
   "outputs": [
    {
     "data": {
      "image/png": "[encoded data removed]",
      "text/plain": [
       "<Figure size 1440x720 with 1 Axes>"
      ]
     },
     "metadata": {
      "needs_background": "light"
     },
     "output_type": "display_data"
    }
   ],
   "source": [
    "'''Features selected on the basis of their learning capability to predict the target'''\n",
    "gbc = GradientBoostingClassifier(n_estimators=100, random_state = 0)\n",
    " \n",
    "feat_labels = X.columns.values\n",
    "\n",
    "gbc.fit(X, y)\n",
    "\n",
    "importances = gbc.feature_importances_\n",
    "indices = np.argsort(importances)[::-1]\n",
    "std = np.std([tree[0].feature_importances_ for tree in gbc.estimators_],\n",
    "                 axis=0)\n",
    "zipped = zip(feat_labels, importances)\n",
    "\n",
    "sorted_list = sorted(zipped, key=lambda x: x[1])\n",
    "gini_values = sorted_list[::-1]\n",
    "\n",
    "a_gbc = gini_values[:20]\n",
    "\n",
    "top_n = 20\n",
    "indices = indices[0:top_n]\n",
    "plt.figure(figsize = (20,10))\n",
    "plt.title(\"Feature importances top %d by Gradient Boosting.\" % top_n)\n",
    "plt.bar(range(top_n), importances[indices],\n",
    "       color=\"r\", yerr=std[indices], align=\"center\")\n",
    "plt.xticks(range(top_n), indices)\n",
    "plt.xlim([-1,top_n])\n",
    "plt.show()"
   ]
  },
  {
   "cell_type": "code",
   "execution_count": 26,
   "metadata": {},
   "outputs": [
    {
     "data": {
      "text/plain": [
       "[(338, 0.13382703595381673),\n",
       " (475, 0.12035663976046118),\n",
       " (48, 0.07435055896717277),\n",
       " (153, 0.06997644678731912),\n",
       " (378, 0.06369234686883314),\n",
       " (318, 0.060880832344004154),\n",
       " (28, 0.05359550539416976),\n",
       " (105, 0.0508352272728366),\n",
       " (442, 0.03738264032370535),\n",
       " (128, 0.034441704351852745),\n",
       " (241, 0.025601017396147605),\n",
       " (281, 0.022888182467441866),\n",
       " (451, 0.02283670667037866),\n",
       " (64, 0.0184644387914576),\n",
       " (453, 0.01724383648491406),\n",
       " (336, 0.017069051999870417),\n",
       " (493, 0.016938738290663963),\n",
       " (472, 0.01688432814465833)]"
      ]
     },
     "execution_count": 26,
     "metadata": {},
     "output_type": "execute_result"
    }
   ],
   "source": [
    "'''Adding the values of the impurity based feature importance and its capability to learn'''\n",
    "index_of_added = []\n",
    "added_importance = []\n",
    "for i , j in a_rfc:\n",
    "    for k, l in a_gbc:\n",
    "        if i == k:\n",
    "            index_of_added.append(i)\n",
    "            added_importance.append(j+l)\n",
    "zipped = zip(index_of_added, added_importance)\n",
    "# for feature in zip(index_of_added, added_importance):\n",
    "#     print(feature)\n",
    "    \n",
    "sorted_added_list = sorted(zipped, key=lambda x: x[1])[::-1]\n",
    "sorted_added_list #(Feature, Leaning_capability); sorted by Learning capability"
   ]
  },
  {
   "cell_type": "code",
   "execution_count": 27,
   "metadata": {},
   "outputs": [
    {
     "data": {
      "text/plain": [
       "[28,\n",
       " 48,\n",
       " 64,\n",
       " 105,\n",
       " 128,\n",
       " 153,\n",
       " 241,\n",
       " 281,\n",
       " 318,\n",
       " 336,\n",
       " 338,\n",
       " 378,\n",
       " 442,\n",
       " 451,\n",
       " 453,\n",
       " 472,\n",
       " 475,\n",
       " 493]"
      ]
     },
     "execution_count": 27,
     "metadata": {},
     "output_type": "execute_result"
    }
   ],
   "source": [
    "'''Get only features index from above list'''\n",
    "Selected_indexes_Tree=[]\n",
    "for i in range(len(sorted_added_list)):\n",
    "    Selected_indexes_Tree.append(sorted_added_list[i][0])\n",
    "Selected_indexes_Tree = sorted(Selected_indexes_Tree)\n",
    "Selected_indexes_Tree"
   ]
  },
  {
   "cell_type": "code",
   "execution_count": 28,
   "metadata": {},
   "outputs": [
    {
     "name": "stdout",
     "output_type": "stream",
     "text": [
      "Accuracy with top 10 features:  0.801923076923077\n"
     ]
    }
   ],
   "source": [
    "'''Acurracy obtained by taking top 10 features'''\n",
    "chosendf = X.iloc[:, Selected_indexes_Tree[:10]]\n",
    "\n",
    "Rf_train, Rf_test, y_train, y_test = train_test_split(chosendf, y, test_size=0.2, random_state=42)\n",
    "rfc = DecisionTreeClassifier(random_state = 42)\n",
    "rfc.fit(Rf_train, y_train)\n",
    "rfc_predict = rfc.predict(Rf_test)\n",
    "\n",
    "print(\"Accuracy with top 10 features: \", accuracy_score(y_test, rfc_predict))"
   ]
  },
  {
   "cell_type": "markdown",
   "metadata": {},
   "source": [
    "## 4.  Sequential Forward Selection (SFS)"
   ]
  },
  {
   "cell_type": "code",
   "execution_count": 29,
   "metadata": {},
   "outputs": [
    {
     "name": "stderr",
     "output_type": "stream",
     "text": [
      "[Parallel(n_jobs=-1)]: Using backend LokyBackend with 8 concurrent workers.\n",
      "[Parallel(n_jobs=-1)]: Done  25 tasks      | elapsed:    3.0s\n",
      "[Parallel(n_jobs=-1)]: Done 500 out of 500 | elapsed:    5.1s finished\n",
      "\n",
      "[2019-12-09 15:47:00] Features: 1/20 -- score: 0.5687704665498592[Parallel(n_jobs=-1)]: Using backend LokyBackend with 8 concurrent workers.\n",
      "[Parallel(n_jobs=-1)]: Done  25 tasks      | elapsed:    3.3s\n",
      "[Parallel(n_jobs=-1)]: Done 384 tasks      | elapsed:    5.6s\n",
      "[Parallel(n_jobs=-1)]: Done 499 out of 499 | elapsed:    6.3s finished\n",
      "\n",
      "[2019-12-09 15:47:06] Features: 2/20 -- score: 0.5817632746138399[Parallel(n_jobs=-1)]: Using backend LokyBackend with 8 concurrent workers.\n",
      "[Parallel(n_jobs=-1)]: Done  25 tasks      | elapsed:    3.3s\n",
      "[Parallel(n_jobs=-1)]: Done 384 tasks      | elapsed:    5.9s\n",
      "[Parallel(n_jobs=-1)]: Done 498 out of 498 | elapsed:    6.6s finished\n",
      "\n",
      "[2019-12-09 15:47:14] Features: 3/20 -- score: 0.6721101235154773[Parallel(n_jobs=-1)]: Using backend LokyBackend with 8 concurrent workers.\n",
      "[Parallel(n_jobs=-1)]: Done  25 tasks      | elapsed:    3.2s\n",
      "[Parallel(n_jobs=-1)]: Done 384 tasks      | elapsed:    6.1s\n",
      "[Parallel(n_jobs=-1)]: Done 497 out of 497 | elapsed:    7.0s finished\n",
      "\n",
      "[2019-12-09 15:47:21] Features: 4/20 -- score: 0.7293393299559882[Parallel(n_jobs=-1)]: Using backend LokyBackend with 8 concurrent workers.\n",
      "[Parallel(n_jobs=-1)]: Done  25 tasks      | elapsed:    3.3s\n",
      "[Parallel(n_jobs=-1)]: Done 236 tasks      | elapsed:    5.2s\n",
      "[Parallel(n_jobs=-1)]: Done 496 out of 496 | elapsed:    7.5s finished\n",
      "\n",
      "[2019-12-09 15:47:29] Features: 5/20 -- score: 0.8005136906656743[Parallel(n_jobs=-1)]: Using backend LokyBackend with 8 concurrent workers.\n",
      "[Parallel(n_jobs=-1)]: Done  25 tasks      | elapsed:    3.1s\n",
      "[Parallel(n_jobs=-1)]: Done 236 tasks      | elapsed:    5.2s\n",
      "[Parallel(n_jobs=-1)]: Done 480 out of 495 | elapsed:    7.5s remaining:    0.1s\n",
      "[Parallel(n_jobs=-1)]: Done 495 out of 495 | elapsed:    7.6s finished\n",
      "\n",
      "[2019-12-09 15:47:38] Features: 6/20 -- score: 0.8106006024715045[Parallel(n_jobs=-1)]: Using backend LokyBackend with 8 concurrent workers.\n",
      "[Parallel(n_jobs=-1)]: Done  25 tasks      | elapsed:    3.1s\n",
      "[Parallel(n_jobs=-1)]: Done 236 tasks      | elapsed:    5.3s\n",
      "[Parallel(n_jobs=-1)]: Done 494 out of 494 | elapsed:    7.8s finished\n",
      "\n",
      "[2019-12-09 15:47:46] Features: 7/20 -- score: 0.8163633666573071[Parallel(n_jobs=-1)]: Using backend LokyBackend with 8 concurrent workers.\n",
      "[Parallel(n_jobs=-1)]: Done  25 tasks      | elapsed:    3.7s\n",
      "[Parallel(n_jobs=-1)]: Done 236 tasks      | elapsed:    5.8s\n",
      "[Parallel(n_jobs=-1)]: Done 478 out of 493 | elapsed:    8.2s remaining:    0.2s\n",
      "[Parallel(n_jobs=-1)]: Done 493 out of 493 | elapsed:    8.3s finished\n",
      "\n",
      "[2019-12-09 15:47:55] Features: 8/20 -- score: 0.8192526137300804[Parallel(n_jobs=-1)]: Using backend LokyBackend with 8 concurrent workers.\n",
      "[Parallel(n_jobs=-1)]: Done  25 tasks      | elapsed:    3.1s\n",
      "[Parallel(n_jobs=-1)]: Done 236 tasks      | elapsed:    5.5s\n",
      "[Parallel(n_jobs=-1)]: Done 492 out of 492 | elapsed:    8.2s finished\n",
      "\n",
      "[2019-12-09 15:48:04] Features: 9/20 -- score: 0.8201984435678671[Parallel(n_jobs=-1)]: Using backend LokyBackend with 8 concurrent workers.\n",
      "[Parallel(n_jobs=-1)]: Done  25 tasks      | elapsed:    3.1s\n",
      "[Parallel(n_jobs=-1)]: Done 220 tasks      | elapsed:    5.5s\n",
      "[Parallel(n_jobs=-1)]: Done 476 out of 491 | elapsed:    8.6s remaining:    0.2s\n",
      "[Parallel(n_jobs=-1)]: Done 491 out of 491 | elapsed:    8.7s finished\n",
      "\n",
      "[2019-12-09 15:48:13] Features: 10/20 -- score: 0.8254970841522798[Parallel(n_jobs=-1)]: Using backend LokyBackend with 8 concurrent workers.\n",
      "[Parallel(n_jobs=-1)]: Done  25 tasks      | elapsed:    3.1s\n",
      "[Parallel(n_jobs=-1)]: Done 204 tasks      | elapsed:    5.5s\n",
      "[Parallel(n_jobs=-1)]: Done 490 out of 490 | elapsed:    9.2s finished\n",
      "\n",
      "[2019-12-09 15:48:23] Features: 11/20 -- score: 0.822609696866767[Parallel(n_jobs=-1)]: Using backend LokyBackend with 8 concurrent workers.\n",
      "[Parallel(n_jobs=-1)]: Done  25 tasks      | elapsed:    3.7s\n",
      "[Parallel(n_jobs=-1)]: Done 146 tasks      | elapsed:    5.7s\n",
      "[Parallel(n_jobs=-1)]: Done 349 tasks      | elapsed:    8.8s\n",
      "[Parallel(n_jobs=-1)]: Done 489 out of 489 | elapsed:   10.9s finished\n",
      "\n",
      "[2019-12-09 15:48:34] Features: 12/20 -- score: 0.8221233873902014[Parallel(n_jobs=-1)]: Using backend LokyBackend with 8 concurrent workers.\n",
      "[Parallel(n_jobs=-1)]: Done  25 tasks      | elapsed:    3.8s\n",
      "[Parallel(n_jobs=-1)]: Done 146 tasks      | elapsed:    5.6s\n",
      "[Parallel(n_jobs=-1)]: Done 349 tasks      | elapsed:    8.7s\n",
      "[Parallel(n_jobs=-1)]: Done 488 out of 488 | elapsed:   10.8s finished\n",
      "\n",
      "[2019-12-09 15:48:46] Features: 13/20 -- score: 0.8211599784734069[Parallel(n_jobs=-1)]: Using backend LokyBackend with 8 concurrent workers.\n",
      "[Parallel(n_jobs=-1)]: Done  25 tasks      | elapsed:    3.3s\n",
      "[Parallel(n_jobs=-1)]: Done 146 tasks      | elapsed:    5.2s\n",
      "[Parallel(n_jobs=-1)]: Done 349 tasks      | elapsed:    8.5s\n",
      "[Parallel(n_jobs=-1)]: Done 487 out of 487 | elapsed:   10.8s finished\n",
      "\n",
      "[2019-12-09 15:48:57] Features: 14/20 -- score: 0.8197111970856743[Parallel(n_jobs=-1)]: Using backend LokyBackend with 8 concurrent workers.\n",
      "[Parallel(n_jobs=-1)]: Done  25 tasks      | elapsed:    3.4s\n",
      "[Parallel(n_jobs=-1)]: Done 146 tasks      | elapsed:    5.6s\n",
      "[Parallel(n_jobs=-1)]: Done 349 tasks      | elapsed:    9.1s\n",
      "[Parallel(n_jobs=-1)]: Done 486 out of 486 | elapsed:   11.6s finished\n",
      "\n",
      "[2019-12-09 15:49:09] Features: 15/20 -- score: 0.8206745775544799[Parallel(n_jobs=-1)]: Using backend LokyBackend with 8 concurrent workers.\n",
      "[Parallel(n_jobs=-1)]: Done  25 tasks      | elapsed:    3.3s\n",
      "[Parallel(n_jobs=-1)]: Done 146 tasks      | elapsed:    5.6s\n",
      "[Parallel(n_jobs=-1)]: Done 349 tasks      | elapsed:    9.4s\n",
      "[Parallel(n_jobs=-1)]: Done 485 out of 485 | elapsed:   11.8s finished\n",
      "\n",
      "[2019-12-09 15:49:22] Features: 16/20 -- score: 0.8187588935524625[Parallel(n_jobs=-1)]: Using backend LokyBackend with 8 concurrent workers.\n",
      "[Parallel(n_jobs=-1)]: Done  25 tasks      | elapsed:    3.6s\n",
      "[Parallel(n_jobs=-1)]: Done 146 tasks      | elapsed:    5.9s\n",
      "[Parallel(n_jobs=-1)]: Done 349 tasks      | elapsed:    9.8s\n",
      "[Parallel(n_jobs=-1)]: Done 484 out of 484 | elapsed:   12.4s finished\n",
      "\n",
      "[2019-12-09 15:49:34] Features: 17/20 -- score: 0.8187663078095134[Parallel(n_jobs=-1)]: Using backend LokyBackend with 8 concurrent workers.\n",
      "[Parallel(n_jobs=-1)]: Done  25 tasks      | elapsed:    3.6s\n",
      "[Parallel(n_jobs=-1)]: Done 146 tasks      | elapsed:    6.0s\n",
      "[Parallel(n_jobs=-1)]: Done 349 tasks      | elapsed:   10.2s\n",
      "[Parallel(n_jobs=-1)]: Done 483 out of 483 | elapsed:   12.8s finished\n",
      "\n",
      "[2019-12-09 15:49:48] Features: 18/20 -- score: 0.8158770678487375[Parallel(n_jobs=-1)]: Using backend LokyBackend with 8 concurrent workers.\n",
      "[Parallel(n_jobs=-1)]: Done  25 tasks      | elapsed:    3.5s\n",
      "[Parallel(n_jobs=-1)]: Done 146 tasks      | elapsed:    6.1s\n",
      "[Parallel(n_jobs=-1)]: Done 349 tasks      | elapsed:   10.3s\n",
      "[Parallel(n_jobs=-1)]: Done 482 out of 482 | elapsed:   13.0s finished\n",
      "\n",
      "[2019-12-09 15:50:01] Features: 19/20 -- score: 0.8211618240366729[Parallel(n_jobs=-1)]: Using backend LokyBackend with 8 concurrent workers.\n",
      "[Parallel(n_jobs=-1)]: Done  25 tasks      | elapsed:    3.6s\n",
      "[Parallel(n_jobs=-1)]: Done 146 tasks      | elapsed:    6.2s\n",
      "[Parallel(n_jobs=-1)]: Done 349 tasks      | elapsed:   10.5s\n",
      "[Parallel(n_jobs=-1)]: Done 481 out of 481 | elapsed:   13.2s finished\n",
      "\n",
      "[2019-12-09 15:50:15] Features: 20/20 -- score: 0.8173128982896216"
     ]
    }
   ],
   "source": [
    "'''Sequential Foward Selection with DecisionTree Classification'''\n",
    "\n",
    "from sklearn.metrics import roc_auc_score\n",
    "from mlxtend.feature_selection import SequentialFeatureSelector as SFS\n",
    "sfs = SFS(DecisionTreeClassifier(random_state=42),\n",
    "         k_features = 20,\n",
    "          forward= True,\n",
    "          floating = False,\n",
    "          verbose= 2,\n",
    "          scoring= 'accuracy',\n",
    "          cv = 4,\n",
    "          n_jobs= -1\n",
    "         ).fit(X_train, y_train)"
   ]
  },
  {
   "cell_type": "code",
   "execution_count": 30,
   "metadata": {},
   "outputs": [
    {
     "name": "stdout",
     "output_type": "stream",
     "text": [
      "Accuracy from SFS 0.8173128982896216\n"
     ]
    }
   ],
   "source": [
    "# '''Selected features and indexes'''\n",
    "print('Accuracy from SFS', sfs.k_score_)\n",
    "Selected_features_SFS = sfs.k_feature_names_\n",
    "Selected_indexes_SFS = list(sfs.k_feature_idx_)"
   ]
  },
  {
   "cell_type": "code",
   "execution_count": 31,
   "metadata": {},
   "outputs": [
    {
     "name": "stdout",
     "output_type": "stream",
     "text": [
      "[221, 285, 336, 338, 378, 442, 475, 493]\n",
      "[28, 48, 64, 105, 128, 153, 241, 281, 318, 336, 338, 378, 442, 451, 453, 472, 475, 493]\n",
      "[48, 100, 128, 191, 195, 198, 279, 281, 295, 317, 318, 338, 340, 378, 404, 423, 435, 451, 472, 475]\n"
     ]
    }
   ],
   "source": [
    "'''Comparing the list of outputs from Lasso and Tree'''\n",
    "print(Selected_indexes_Lasso) #Using lasso\n",
    "print(Selected_indexes_Tree) #Using Tree\n",
    "print(Selected_indexes_SFS) #Using SFS"
   ]
  },
  {
   "cell_type": "code",
   "execution_count": 32,
   "metadata": {},
   "outputs": [
    {
     "data": {
      "text/plain": [
       "[48, 128, 281, 318, 338, 378, 451, 472, 475]"
      ]
     },
     "execution_count": 32,
     "metadata": {},
     "output_type": "execute_result"
    }
   ],
   "source": [
    "'''Find commond indexes from Lasso, Tree and SFS'''\n",
    "# Common_indexes = []\n",
    "# for i in Selected_indexes_Tree:\n",
    "#     for j in Selected_indexes_Lasso:\n",
    "#         for k in Selected_indexes_SFS:\n",
    "#             if i == j == k:\n",
    "#                 Common_indexes.append(i)\n",
    "# Common_indexes\n",
    "\n",
    "'''Find commond indexes from Tree and SFS'''\n",
    "Common_indexes = []\n",
    "for i in Selected_indexes_Tree:\n",
    "    for j in Selected_indexes_SFS:\n",
    "        if i == j:\n",
    "            Common_indexes.append(i)\n",
    "Common_indexes "
   ]
  },
  {
   "cell_type": "code",
   "execution_count": 33,
   "metadata": {},
   "outputs": [
    {
     "name": "stdout",
     "output_type": "stream",
     "text": [
      "Accuracy:  0.8269230769230769\n"
     ]
    }
   ],
   "source": [
    "'''Create a dataframe with just the above features and compute accuracy'''\n",
    "chosendf = X.iloc[:, Common_indexes]\n",
    "Rf_train, Rf_test, y_train, y_test = train_test_split(chosendf, y, test_size=0.2, random_state=42)\n",
    "rfc = DecisionTreeClassifier(random_state = 42)\n",
    "rfc.fit(Rf_train, y_train)\n",
    "rfc_predict = rfc.predict(Rf_test)\n",
    "\n",
    "print(\"Accuracy: \", accuracy_score(y_test, rfc_predict))"
   ]
  },
  {
   "cell_type": "code",
   "execution_count": 34,
   "metadata": {},
   "outputs": [
    {
     "data": {
      "text/html": [
       "<div>\n",
       "<style scoped>\n",
       "    .dataframe tbody tr th:only-of-type {\n",
       "        vertical-align: middle;\n",
       "    }\n",
       "\n",
       "    .dataframe tbody tr th {\n",
       "        vertical-align: top;\n",
       "    }\n",
       "\n",
       "    .dataframe thead th {\n",
       "        text-align: right;\n",
       "    }\n",
       "</style>\n",
       "<table border=\"1\" class=\"dataframe\">\n",
       "  <thead>\n",
       "    <tr style=\"text-align: right;\">\n",
       "      <th></th>\n",
       "      <th>V49</th>\n",
       "      <th>V129</th>\n",
       "      <th>V282</th>\n",
       "      <th>V319</th>\n",
       "      <th>V339</th>\n",
       "      <th>V379</th>\n",
       "      <th>V452</th>\n",
       "      <th>V473</th>\n",
       "      <th>V476</th>\n",
       "    </tr>\n",
       "  </thead>\n",
       "  <tbody>\n",
       "    <tr>\n",
       "      <th>582</th>\n",
       "      <td>443</td>\n",
       "      <td>500</td>\n",
       "      <td>481</td>\n",
       "      <td>503</td>\n",
       "      <td>339</td>\n",
       "      <td>443</td>\n",
       "      <td>480</td>\n",
       "      <td>480</td>\n",
       "      <td>641</td>\n",
       "    </tr>\n",
       "    <tr>\n",
       "      <th>48</th>\n",
       "      <td>416</td>\n",
       "      <td>497</td>\n",
       "      <td>469</td>\n",
       "      <td>551</td>\n",
       "      <td>340</td>\n",
       "      <td>392</td>\n",
       "      <td>489</td>\n",
       "      <td>469</td>\n",
       "      <td>570</td>\n",
       "    </tr>\n",
       "    <tr>\n",
       "      <th>1772</th>\n",
       "      <td>526</td>\n",
       "      <td>475</td>\n",
       "      <td>567</td>\n",
       "      <td>446</td>\n",
       "      <td>479</td>\n",
       "      <td>563</td>\n",
       "      <td>470</td>\n",
       "      <td>473</td>\n",
       "      <td>431</td>\n",
       "    </tr>\n",
       "    <tr>\n",
       "      <th>964</th>\n",
       "      <td>442</td>\n",
       "      <td>476</td>\n",
       "      <td>454</td>\n",
       "      <td>434</td>\n",
       "      <td>559</td>\n",
       "      <td>442</td>\n",
       "      <td>467</td>\n",
       "      <td>536</td>\n",
       "      <td>498</td>\n",
       "    </tr>\n",
       "    <tr>\n",
       "      <th>2213</th>\n",
       "      <td>419</td>\n",
       "      <td>476</td>\n",
       "      <td>532</td>\n",
       "      <td>443</td>\n",
       "      <td>480</td>\n",
       "      <td>416</td>\n",
       "      <td>468</td>\n",
       "      <td>531</td>\n",
       "      <td>446</td>\n",
       "    </tr>\n",
       "    <tr>\n",
       "      <th>...</th>\n",
       "      <td>...</td>\n",
       "      <td>...</td>\n",
       "      <td>...</td>\n",
       "      <td>...</td>\n",
       "      <td>...</td>\n",
       "      <td>...</td>\n",
       "      <td>...</td>\n",
       "      <td>...</td>\n",
       "      <td>...</td>\n",
       "    </tr>\n",
       "    <tr>\n",
       "      <th>1638</th>\n",
       "      <td>463</td>\n",
       "      <td>467</td>\n",
       "      <td>493</td>\n",
       "      <td>497</td>\n",
       "      <td>574</td>\n",
       "      <td>467</td>\n",
       "      <td>480</td>\n",
       "      <td>475</td>\n",
       "      <td>421</td>\n",
       "    </tr>\n",
       "    <tr>\n",
       "      <th>1095</th>\n",
       "      <td>517</td>\n",
       "      <td>450</td>\n",
       "      <td>444</td>\n",
       "      <td>410</td>\n",
       "      <td>829</td>\n",
       "      <td>535</td>\n",
       "      <td>469</td>\n",
       "      <td>555</td>\n",
       "      <td>282</td>\n",
       "    </tr>\n",
       "    <tr>\n",
       "      <th>1130</th>\n",
       "      <td>486</td>\n",
       "      <td>485</td>\n",
       "      <td>528</td>\n",
       "      <td>456</td>\n",
       "      <td>488</td>\n",
       "      <td>500</td>\n",
       "      <td>471</td>\n",
       "      <td>530</td>\n",
       "      <td>407</td>\n",
       "    </tr>\n",
       "    <tr>\n",
       "      <th>1294</th>\n",
       "      <td>513</td>\n",
       "      <td>482</td>\n",
       "      <td>516</td>\n",
       "      <td>521</td>\n",
       "      <td>419</td>\n",
       "      <td>536</td>\n",
       "      <td>486</td>\n",
       "      <td>412</td>\n",
       "      <td>547</td>\n",
       "    </tr>\n",
       "    <tr>\n",
       "      <th>860</th>\n",
       "      <td>473</td>\n",
       "      <td>475</td>\n",
       "      <td>581</td>\n",
       "      <td>478</td>\n",
       "      <td>480</td>\n",
       "      <td>480</td>\n",
       "      <td>476</td>\n",
       "      <td>504</td>\n",
       "      <td>336</td>\n",
       "    </tr>\n",
       "  </tbody>\n",
       "</table>\n",
       "<p>2080 rows × 9 columns</p>\n",
       "</div>"
      ],
      "text/plain": [
       "      V49  V129  V282  V319  V339  V379  V452  V473  V476\n",
       "582   443   500   481   503   339   443   480   480   641\n",
       "48    416   497   469   551   340   392   489   469   570\n",
       "1772  526   475   567   446   479   563   470   473   431\n",
       "964   442   476   454   434   559   442   467   536   498\n",
       "2213  419   476   532   443   480   416   468   531   446\n",
       "...   ...   ...   ...   ...   ...   ...   ...   ...   ...\n",
       "1638  463   467   493   497   574   467   480   475   421\n",
       "1095  517   450   444   410   829   535   469   555   282\n",
       "1130  486   485   528   456   488   500   471   530   407\n",
       "1294  513   482   516   521   419   536   486   412   547\n",
       "860   473   475   581   478   480   480   476   504   336\n",
       "\n",
       "[2080 rows x 9 columns]"
      ]
     },
     "execution_count": 34,
     "metadata": {},
     "output_type": "execute_result"
    }
   ],
   "source": [
    "'''Fresh re-load of dataset'''\n",
    "X = df.drop(['Class'], axis = 1)\n",
    "y = df['Class']\n",
    "X_train, X_test, y_train, y_test = train_test_split(X, y, test_size=0.2, random_state=42)\n",
    "X_train_ = X_train.iloc[:, Common_indexes]\n",
    "X_test_ = X_test.iloc[:, Common_indexes]\n",
    "X_train_"
   ]
  },
  {
   "cell_type": "code",
   "execution_count": 35,
   "metadata": {},
   "outputs": [
    {
     "name": "stderr",
     "output_type": "stream",
     "text": [
      "Features: 126/126"
     ]
    }
   ],
   "source": [
    "'''Pick 5 most useful features using Exhaustive Feature Selection'''\n",
    "from mlxtend.feature_selection import ExhaustiveFeatureSelector as EFS\n",
    "efs = EFS(DecisionTreeClassifier(random_state=42),\n",
    "         min_features= 5,\n",
    "          max_features= 5,\n",
    "          scoring='accuracy',\n",
    "          cv = 20,\n",
    "          n_jobs=-1\n",
    "         ).fit(X_train_, y_train)"
   ]
  },
  {
   "cell_type": "code",
   "execution_count": 36,
   "metadata": {},
   "outputs": [
    {
     "name": "stdout",
     "output_type": "stream",
     "text": [
      "The highest accuracy acheived by EFS is 0.8270289661794517\n"
     ]
    }
   ],
   "source": [
    "print('The highest accuracy acheived by EFS is', efs.best_score_)  #Accuracy score"
   ]
  },
  {
   "cell_type": "code",
   "execution_count": 37,
   "metadata": {},
   "outputs": [
    {
     "name": "stdout",
     "output_type": "stream",
     "text": [
      "The final selected features are, ['V129', 'V282', 'V319', 'V379', 'V476']\n"
     ]
    }
   ],
   "source": [
    "Selected_features_Final = list(efs.best_feature_names_)\n",
    "print('The final selected features are,',Selected_features_Final)"
   ]
  },
  {
   "cell_type": "code",
   "execution_count": 38,
   "metadata": {},
   "outputs": [
    {
     "data": {
      "text/plain": [
       "[128, 281, 318, 378, 475]"
      ]
     },
     "execution_count": 38,
     "metadata": {},
     "output_type": "execute_result"
    }
   ],
   "source": [
    "Selected_indexes_Final = get_index(Selected_features_Final)\n",
    "Selected_indexes_Final"
   ]
  },
  {
   "cell_type": "markdown",
   "metadata": {},
   "source": [
    "### Keep only 5 final features in dataset"
   ]
  },
  {
   "cell_type": "code",
   "execution_count": 39,
   "metadata": {},
   "outputs": [
    {
     "name": "stdout",
     "output_type": "stream",
     "text": [
      "(2600, 500)\n"
     ]
    }
   ],
   "source": [
    "'''Load data'''\n",
    "X = df.drop(['Class'], axis = 1)\n",
    "y = df['Class']\n",
    "\n",
    "scaler= StandardScaler().fit(X)\n",
    "X = scaler.transform(X)\n",
    "\n",
    "X_train, X_test, y_train, y_test = train_test_split(X, y, test_size=0.2, random_state=42)\n",
    "\n",
    "X = pd.DataFrame(X)\n",
    "\n",
    "print(X.shape)"
   ]
  },
  {
   "cell_type": "code",
   "execution_count": 40,
   "metadata": {},
   "outputs": [
    {
     "name": "stdout",
     "output_type": "stream",
     "text": [
      "Final dimensions of inputdataset is:  (2600, 9)\n",
      "Accuracy:  0.8269230769230769\n"
     ]
    }
   ],
   "source": [
    "chosendf = X.iloc[:, Common_indexes]\n",
    "\n",
    "print(\"Final dimensions of inputdataset is: \", chosendf.shape)\n",
    "\n",
    "Rf_train, Rf_test, y_train, y_test = train_test_split(chosendf, y, test_size=0.2, random_state=42)\n",
    "rfc = DecisionTreeClassifier(random_state = 42)\n",
    "rfc.fit(Rf_train, y_train)\n",
    "rfc_predict = rfc.predict(Rf_test)\n",
    "\n",
    "print(\"Accuracy: \", accuracy_score(y_test, rfc_predict))"
   ]
  },
  {
   "cell_type": "code",
   "execution_count": 43,
   "metadata": {
    "scrolled": true
   },
   "outputs": [
    {
     "name": "stdout",
     "output_type": "stream",
     "text": [
      "              precision    recall  f1-score   support\n",
      "\n",
      "           1       0.80      0.86      0.83       257\n",
      "           2       0.85      0.79      0.82       263\n",
      "\n",
      "    accuracy                           0.83       520\n",
      "   macro avg       0.83      0.83      0.83       520\n",
      "weighted avg       0.83      0.83      0.83       520\n",
      "\n"
     ]
    }
   ],
   "source": [
    "from sklearn.metrics import classification_report\n",
    "print(classification_report(y_test, rfc_predict))"
   ]
  },
  {
   "cell_type": "code",
   "execution_count": 47,
   "metadata": {},
   "outputs": [
    {
     "name": "stdout",
     "output_type": "stream",
     "text": [
      "Performance measures for test set:\n",
      "Accuracy: 0.8269230769230769\n",
      "F1 Score: 0.8308270676691728\n",
      "Precision Score: 0.8036363636363636\n",
      "Recall Score: 0.8599221789883269\n",
      "Confusion Matrix:\n",
      " [[221  36]\n",
      " [ 54 209]]\n",
      "\n"
     ]
    }
   ],
   "source": [
    "from sklearn.metrics import classification_report, confusion_matrix, precision_score, recall_score, f1_score, roc_curve, precision_recall_curve, classification_report\n",
    "print('Performance measures for test set:')\n",
    "print('Accuracy:', accuracy_score(y_test, rfc_predict))\n",
    "print('F1 Score:',f1_score(y_test, rfc_predict))\n",
    "print('Precision Score:',precision_score(y_test, rfc_predict))\n",
    "print('Recall Score:', recall_score(y_test, rfc_predict))\n",
    "print('Confusion Matrix:\\n', confusion_matrix(y_test, rfc_predict))\n",
    "print()"
   ]
  },
  {
   "cell_type": "code",
   "execution_count": null,
   "metadata": {},
   "outputs": [],
   "source": []
  }
 ],
 "metadata": {
  "kernelspec": {
   "display_name": "Python 3",
   "language": "python",
   "name": "python3"
  },
  "language_info": {
   "codemirror_mode": {
    "name": "ipython",
    "version": 3
   },
   "file_extension": ".py",
   "mimetype": "text/x-python",
   "name": "python",
   "nbconvert_exporter": "python",
   "pygments_lexer": "ipython3",
   "version": "3.7.4"
  }
 },
 "nbformat": 4,
 "nbformat_minor": 2
}
